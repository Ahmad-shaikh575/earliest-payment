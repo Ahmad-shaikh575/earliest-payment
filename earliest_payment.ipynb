{
 "cells": [
  {
   "cell_type": "markdown",
   "metadata": {},
   "source": [
    "### You got a car loan and you want to repay the loan early.<br> However, if you repay early, there is an early repayment penalty associated with it. The repayment penalty is a fixed amount or some percentage of the outstanding loan amount<br> – whichever is higher.<br>For example, consider a loan amount of $100,000 charged at 2.5% with a loan duration of 5 years.<br> If the borrower chooses to repay earlier, he will have to pay a repayment penalty which is equivalent to 15% of the remaining loan amount or a flat penalty fee of $1,000, whichever is higher.<br> Based on the terms of the car loan and the repayment payment, <br>the earliest time for early repayment is after 31 monthly payments has been made. <br>Implement a function early_repayment_breakeven(loan_amt, rate, loan_duration, flat_fee, penalty_rate) that will inform a borrower the earliest time that she can early repay her loan. <br>Her loan details are described by the loan_amt, rate and loan_duration and the early repayment penalty is either flat_fee or penalty_rate × outstanding loan amount, whichever is higher.\"<br> Pls run it using Jupyter Notebook."
   ]
  },
  {
   "cell_type": "markdown",
   "metadata": {},
   "source": [
    "car_loan  --- > repay it early<br>\n",
    "early repayment penalty<br>\n",
    "100,000  at 2.5% loan duration 5 years if earlier max(15% of remaining loan amount or flat penalty fee of 1000$) <br>\n",
    "earliest time is after  31 monthly payments made<br>"
   ]
  },
  {
   "cell_type": "code",
   "execution_count": 29,
   "metadata": {},
   "outputs": [
    {
     "name": "stdout",
     "output_type": "stream",
     "text": [
      "The monthly mortgage payment is\n",
      " (1774.74) \n",
      "\n",
      "you will have to pay 674747.6853452057 dollars 31 months\n"
     ]
    }
   ],
   "source": [
    "def early_repayment_breakeven(loan_amt, rate, loan_duration, flat_fee, penalty_rate):\n",
    "    '''parameters:\n",
    "    loan_amt is loan details/amount --> 100,000\n",
    "    rate --2.5%\n",
    "    loan duration -- 5\n",
    "    flat--fee  --> 1000\n",
    "    panelty_rate -->  15%\n",
    "    flat_fee --->1000\n",
    "    time -- after 31 montly payments is made\n",
    "    \n",
    "    returns earlies time that she can repay her loan'''\n",
    "    time = 0\n",
    "    loan_amt = 100000\n",
    "    rate = 2.5\n",
    "    loan_duration = 5  #years\n",
    "    flat_fee = 15\n",
    "    penalty_rate = 15\n",
    "    \n",
    "    import numpy as np\n",
    "\n",
    "    # Derive the equivalent monthly mortgage rate from the annual rate\n",
    "    loanAmount = loan_amt\n",
    "\n",
    "    # Declares and asks user to input number of payments in years. Then converts to float. Years * 12 to get\n",
    "    #  total number of months\n",
    "    years = float(loan_duration) * 12\n",
    "\n",
    "    # Declares and asks user to input interest rate. Then converts to float and input interest rate is /100/12\n",
    "    interestRate = float(2.5) / 100 / 12\n",
    "\n",
    "    # Formula to calculate monthly payments\n",
    "    mortgagePayment = loanAmount * (interestRate * (1 + interestRate)\n",
    "                                    ** years) / ((1 + interestRate) ** years - 1)\n",
    "\n",
    "    # Prints monthly payment on next line and reformat the string to a float using 2 decimal places\n",
    "    print(\"The monthly mortgage payment is\\n (%.2f) \" % mortgagePayment)\n",
    "    after31months = mortgagePayment * 31\n",
    "    print()\n",
    "    remain_loan_amt = loan_amt - after31months\n",
    "\n",
    "    charged = max((penalty_rate*remain_loan_amt),(flat_fee))\n",
    "\n",
    "\n",
    "    return 'you will have to pay ' + str(charged) + ' dollars 31 months'\n",
    "\n",
    "\n",
    "print(early_repayment_breakeven(100000,2.5,5,1000,15))"
   ]
  },
  {
   "cell_type": "code",
   "execution_count": null,
   "metadata": {},
   "outputs": [],
   "source": []
  }
 ],
 "metadata": {
  "kernelspec": {
   "display_name": "Python 3",
   "language": "python",
   "name": "python3"
  },
  "language_info": {
   "codemirror_mode": {
    "name": "ipython",
    "version": 3
   },
   "file_extension": ".py",
   "mimetype": "text/x-python",
   "name": "python",
   "nbconvert_exporter": "python",
   "pygments_lexer": "ipython3",
   "version": "3.7.6"
  }
 },
 "nbformat": 4,
 "nbformat_minor": 4
}
